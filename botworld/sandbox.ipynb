{
 "cells": [
  {
   "cell_type": "code",
   "execution_count": 12,
   "id": "560d0b31",
   "metadata": {},
   "outputs": [],
   "source": [
    "a = [i for i in range(100)]"
   ]
  },
  {
   "cell_type": "code",
   "execution_count": 8,
   "id": "f06f41a3",
   "metadata": {},
   "outputs": [],
   "source": [
    "for i in a:\n",
    "    i**2"
   ]
  },
  {
   "cell_type": "code",
   "execution_count": 13,
   "id": "01e7a003",
   "metadata": {},
   "outputs": [
    {
     "data": {
      "text/plain": [
       "<map at 0x7f8cb1399870>"
      ]
     },
     "execution_count": 13,
     "metadata": {},
     "output_type": "execute_result"
    }
   ],
   "source": [
    "map(lambda x: print(\"1\"), a)"
   ]
  },
  {
   "cell_type": "code",
   "execution_count": 16,
   "id": "6bc745c2",
   "metadata": {},
   "outputs": [
    {
     "data": {
      "text/plain": [
       "True"
      ]
     },
     "execution_count": 16,
     "metadata": {},
     "output_type": "execute_result"
    }
   ],
   "source": [
    "from enums import Enum\n",
    "class PlayerCollision(Enum):\n",
    "    PLAYER_APPLE = \"ap\"\n",
    "    PLAYER_DEAD = \"de\"\n",
    "    PLAYER_NEFOR = \"ne\"\n",
    "\n",
    "\"de\" == PlayerCollision.PLAYER_DEAD.value"
   ]
  },
  {
   "cell_type": "code",
   "execution_count": 3,
   "id": "f5c56f0b",
   "metadata": {},
   "outputs": [
    {
     "data": {
      "text/plain": [
       "(UUID('359f5e21-35aa-495c-9071-8e8f3d8e27ed'),\n",
       " UUID('6e8de750-eea2-47e3-bef8-3f93854d04fa'))"
      ]
     },
     "execution_count": 3,
     "metadata": {},
     "output_type": "execute_result"
    }
   ],
   "source": [
    "import uuid\n",
    "class GameObject:\n",
    "    def __init__(self):\n",
    "        self.uuid = uuid.uuid4()\n",
    "g2 = GameObject()\n",
    "g1 = GameObject()\n",
    "g1.uuid, g2.uuid"
   ]
  },
  {
   "cell_type": "code",
   "execution_count": null,
   "id": "32739177",
   "metadata": {},
   "outputs": [],
   "source": []
  }
 ],
 "metadata": {
  "kernelspec": {
   "display_name": "Python 3",
   "language": "python",
   "name": "python3"
  },
  "language_info": {
   "codemirror_mode": {
    "name": "ipython",
    "version": 3
   },
   "file_extension": ".py",
   "mimetype": "text/x-python",
   "name": "python",
   "nbconvert_exporter": "python",
   "pygments_lexer": "ipython3",
   "version": "3.13.3"
  }
 },
 "nbformat": 4,
 "nbformat_minor": 5
}
